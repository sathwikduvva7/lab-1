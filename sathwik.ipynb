{
  "nbformat": 4,
  "nbformat_minor": 0,
  "metadata": {
    "colab": {
      "provenance": [],
      "mount_file_id": "1vTr2-ZDflaBiXGwB4F4C7UsfMm0zCEG7",
      "authorship_tag": "ABX9TyPFrXwLp5cepqduH6SHWxvu",
      "include_colab_link": true
    },
    "kernelspec": {
      "name": "python3",
      "display_name": "Python 3"
    },
    "language_info": {
      "name": "python"
    }
  },
  "cells": [
    {
      "cell_type": "markdown",
      "metadata": {
        "id": "view-in-github",
        "colab_type": "text"
      },
      "source": [
        "<a href=\"https://colab.research.google.com/github/sathwikduvva7/lab-1/blob/main/sathwik.ipynb\" target=\"_parent\"><img src=\"https://colab.research.google.com/assets/colab-badge.svg\" alt=\"Open In Colab\"/></a>"
      ]
    },
    {
      "cell_type": "code",
      "source": [
        "from google.colab import drive\n",
        "drive.mount('/content/drive')\n"
      ],
      "metadata": {
        "colab": {
          "base_uri": "https://localhost:8080/"
        },
        "id": "0F768ggYe59c",
        "outputId": "a7f1bba6-6dca-4356-a91d-a8efb6c7362d"
      },
      "execution_count": null,
      "outputs": [
        {
          "output_type": "stream",
          "name": "stdout",
          "text": [
            "Drive already mounted at /content/drive; to attempt to forcibly remount, call drive.mount(\"/content/drive\", force_remount=True).\n"
          ]
        }
      ]
    },
    {
      "cell_type": "code",
      "source": [
        "import pandas as pd"
      ],
      "metadata": {
        "id": "CNKmipAYgmRQ"
      },
      "execution_count": null,
      "outputs": []
    },
    {
      "cell_type": "code",
      "source": [
        "df = pd.read_excel('/Even.xlsx', sheet_name='messy_2_employee_data')\n"
      ],
      "metadata": {
        "id": "-IR0ceXQgAnv"
      },
      "execution_count": null,
      "outputs": []
    },
    {
      "cell_type": "code",
      "source": [
        "num_unique_roles = df[\"Job_Role\"].nunique()\n",
        "unique_roles = df[\"Job_Role\"].unique()\n",
        "print(\"Number of unique job roles:\", num_unique_roles)\n",
        "print(\"Unique job roles:\", unique_roles)\n"
      ],
      "metadata": {
        "colab": {
          "base_uri": "https://localhost:8080/"
        },
        "id": "jLWZyzVUg5eG",
        "outputId": "8734898f-045d-46c4-b128-b0940ce0edc4"
      },
      "execution_count": null,
      "outputs": [
        {
          "output_type": "stream",
          "name": "stdout",
          "text": [
            "Number of unique job roles: 5\n",
            "Unique job roles: ['Developer' 'Manager' 'Engineer' 'Analyst' 'Data Scientist' nan]\n"
          ]
        }
      ]
    },
    {
      "cell_type": "code",
      "source": [
        "duplicate_employees = df[df.duplicated(subset=[\"Employee_ID\"], keep=False)]\n",
        "\n",
        "print(duplicate_employees)"
      ],
      "metadata": {
        "colab": {
          "base_uri": "https://localhost:8080/"
        },
        "id": "U1NVxa5mhdmN",
        "outputId": "598d6d99-d63c-4143-caef-3caabfb19ebd"
      },
      "execution_count": null,
      "outputs": [
        {
          "output_type": "stream",
          "name": "stdout",
          "text": [
            "    Employee_Name  Employee_ID        Job_Role  Phone_Number  \\\n",
            "6   Michael Jones         3654         Manager  8.045243e+09   \n",
            "16    Laura Jones         5596         Analyst  6.650995e+09   \n",
            "50     John Jones         1442  Data Scientist  3.139018e+09   \n",
            "56            NaN         3654       Developer  5.844402e+09   \n",
            "72    Jane Wilson         5596         Manager  9.602139e+09   \n",
            "98    Sarah Smith         1442         Analyst  3.294945e+09   \n",
            "\n",
            "                        Email_ID  Total_Work_Hour_per_Month  Salary_per_Month  \n",
            "6     laura.williams@example.com                      160.0           11200.0  \n",
            "16     john.williams@example.com                      200.0           10000.0  \n",
            "50     laura.williams@sample.org                      160.0            8000.0  \n",
            "56          laura.brown@test.net                      -10.0          100000.0  \n",
            "72          jane.miller@test.net                      200.0           12000.0  \n",
            "98  jessica.anderson@example.com                      -10.0           -5000.0  \n"
          ]
        }
      ]
    },
    {
      "cell_type": "code",
      "source": [
        "negative_salaries = df[df[\"Salary_per_Month\"] < 0]\n",
        "print(negative_salaries)\n",
        "\n"
      ],
      "metadata": {
        "colab": {
          "base_uri": "https://localhost:8080/"
        },
        "id": "oZk57RhOh0og",
        "outputId": "2026e1b5-8fc0-47d6-dd81-16391a464482"
      },
      "execution_count": null,
      "outputs": [
        {
          "output_type": "stream",
          "name": "stdout",
          "text": [
            "      Employee_Name  Employee_ID        Job_Role  Phone_Number  \\\n",
            "2    Sarah Anderson         2353       Developer  9.463822e+09   \n",
            "8               NaN         5890       Developer  3.155312e+09   \n",
            "12      Laura Davis         6915        Engineer  9.849898e+09   \n",
            "14   Michael Miller         1634  Data Scientist  2.416309e+09   \n",
            "17     John Johnson         8521         Analyst  8.917196e+09   \n",
            "20      Laura Davis         8202             NaN  5.790057e+09   \n",
            "32              NaN         1603        Engineer  4.795532e+09   \n",
            "38     Emily Wilson         9713         Manager  7.156704e+09   \n",
            "41    Jane Williams         7226             NaN  5.351126e+09   \n",
            "48      Chris Jones         9320  Data Scientist  2.767192e+09   \n",
            "60       Jane Jones         6742  Data Scientist  8.355664e+09   \n",
            "62      David Brown         5344  Data Scientist  2.606042e+09   \n",
            "64   Jessica Wilson         6131       Developer  1.805531e+09   \n",
            "70  Michael Johnson         5045         Analyst  8.703092e+09   \n",
            "71    Jane Anderson         8889         Manager  7.736842e+09   \n",
            "81    Jessica Brown         8979        Engineer  3.949648e+09   \n",
            "87    Sarah Johnson         3476             NaN           NaN   \n",
            "89       Jane Jones         7778  Data Scientist           NaN   \n",
            "93    Laura Johnson         2658        Engineer  2.847548e+09   \n",
            "98      Sarah Smith         1442         Analyst  3.294945e+09   \n",
            "\n",
            "                        Email_ID  Total_Work_Hour_per_Month  Salary_per_Month  \n",
            "2        sarah.wilson@sample.org                     9999.0           -5000.0  \n",
            "8         jane.williams@test.net                     9999.0           -5000.0  \n",
            "12       sarah.brown@example.com                        NaN           -5000.0  \n",
            "14        emily.johnson@test.net                     9999.0           -5000.0  \n",
            "17    jessica.miller@example.com                        NaN           -5000.0  \n",
            "20                           NaN                     9999.0           -5000.0  \n",
            "32          emily.jones@test.net                     9999.0           -5000.0  \n",
            "38        jessica.smith@test.net                      -10.0           -5000.0  \n",
            "41        david.johnson@test.net                     9999.0           -5000.0  \n",
            "48       laura.taylor@sample.org                      -10.0           -5000.0  \n",
            "60       james.wilson@sample.org                      -10.0           -5000.0  \n",
            "62                           NaN                     9999.0           -5000.0  \n",
            "64           john.davis@test.net                        NaN           -5000.0  \n",
            "70    michael.miller@example.com                     9999.0           -5000.0  \n",
            "71     michael.smith@example.com                     9999.0           -5000.0  \n",
            "81     sarah.johnson@example.com                      -10.0           -5000.0  \n",
            "87     jessica.wilson@sample.org                     9999.0           -5000.0  \n",
            "89       sarah.brown@example.com                     9999.0           -5000.0  \n",
            "93      james.wilson@example.com                      -10.0           -5000.0  \n",
            "98  jessica.anderson@example.com                      -10.0           -5000.0  \n"
          ]
        }
      ]
    },
    {
      "cell_type": "code",
      "source": [
        "df[\"Salary_per_Month\"] = df[\"Salary_per_Month\"].abs()\n"
      ],
      "metadata": {
        "id": "BMRq0IIciH2o"
      },
      "execution_count": null,
      "outputs": []
    },
    {
      "cell_type": "code",
      "source": [
        "df.to_excel('Corrected_Employees.xlsx', index=False)\n"
      ],
      "metadata": {
        "id": "JAKPg6iHiLL-"
      },
      "execution_count": null,
      "outputs": []
    },
    {
      "cell_type": "code",
      "source": [
        "import pandas as pd\n",
        "import re\n",
        "\n",
        "# Load the dataset\n",
        "df = pd.read_excel('/Even.xlsx', sheet_name='messy_2_employee_data')\n",
        "\n",
        "# Function to clean phone numbers\n",
        "def clean_phone(phone):\n",
        "    phone = re.sub(r'\\D', '', str(phone))  # Remove all non-numeric characters\n",
        "    return phone[-10:]  # Keep only the last 10 digits (assuming local numbers)\n",
        "\n",
        "# Apply the function to standardize phone numbers\n",
        "df[\"Phone_Number\"] = df[\"Phone_Number\"].apply(clean_phone)\n",
        "\n",
        "# Save the cleaned data\n",
        "df.to_excel('Cleaned_Phone_Numbers.xlsx', index=False)\n",
        "\n",
        "print(\"Phone numbers standardized successfully!\")\n"
      ],
      "metadata": {
        "colab": {
          "base_uri": "https://localhost:8080/"
        },
        "id": "-Fh2V0ExiqTq",
        "outputId": "c4af858b-e47b-4d9c-e77b-bafa589c8dd5"
      },
      "execution_count": null,
      "outputs": [
        {
          "output_type": "stream",
          "name": "stdout",
          "text": [
            "Phone numbers standardized successfully!\n"
          ]
        }
      ]
    },
    {
      "cell_type": "code",
      "source": [
        "df1 = pd.read_excel(\"/content/Cleaned_Employee_Data.xlsx\")"
      ],
      "metadata": {
        "id": "EGyTdOYOt2HE"
      },
      "execution_count": null,
      "outputs": []
    },
    {
      "cell_type": "code",
      "source": [
        "print(df1)"
      ],
      "metadata": {
        "id": "RTZdyuBlvB5T",
        "outputId": "4e197828-e66a-41b7-bce6-3b8024601116",
        "colab": {
          "base_uri": "https://localhost:8080/"
        }
      },
      "execution_count": null,
      "outputs": [
        {
          "output_type": "stream",
          "name": "stdout",
          "text": [
            "     Employee_Name  Employee_ID   Job_Role  Phone_Number  \\\n",
            "0      Jane Miller         8797  Developer  3.801881e+09   \n",
            "1    Michael Brown         6540    Manager  7.904752e+09   \n",
            "2   Sarah Anderson         2353  Developer  9.463822e+09   \n",
            "3    Chris Johnson         6392   Engineer  8.727628e+09   \n",
            "4      Laura Smith         1653    Analyst  7.750284e+08   \n",
            "..             ...          ...        ...           ...   \n",
            "95     Emily Smith         5111        NaN  4.463884e+09   \n",
            "96    Sarah Wilson         7388   Engineer  7.455009e+09   \n",
            "97             NaN         3773    Manager  4.515526e+08   \n",
            "98     Sarah Smith         1442    Analyst  3.294945e+09   \n",
            "99   Michael Jones         3490    Analyst  9.425622e+09   \n",
            "\n",
            "                        Email_ID  Total_Work_Hour_per_Month  Salary_per_Month  \\\n",
            "0       emily.taylor@example.com                 128.709677             26170   \n",
            "1            john.brown@test.net                 160.000000             11200   \n",
            "2        sarah.wilson@sample.org                 128.709677              5000   \n",
            "3          john.jones@sample.org                 160.000000              8000   \n",
            "4          sarah.taylor@test.net                 128.709677             26170   \n",
            "..                           ...                        ...               ...   \n",
            "95          james.davis@test.net                 -10.000000            100000   \n",
            "96      john.johnson@example.com                 128.709677            100000   \n",
            "97       david.miller@sample.org                 128.709677            100000   \n",
            "98  jessica.anderson@example.com                 -10.000000              5000   \n",
            "99        john.miller@sample.org                 128.709677             26170   \n",
            "\n",
            "     Hourly_Wage  \n",
            "0     203.325815  \n",
            "1      70.000000  \n",
            "2      38.847118  \n",
            "3      50.000000  \n",
            "4     203.325815  \n",
            "..           ...  \n",
            "95 -10000.000000  \n",
            "96    776.942356  \n",
            "97    776.942356  \n",
            "98   -500.000000  \n",
            "99    203.325815  \n",
            "\n",
            "[100 rows x 8 columns]\n"
          ]
        }
      ]
    }
  ]
}